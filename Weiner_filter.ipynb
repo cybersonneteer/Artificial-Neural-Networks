{
  "nbformat": 4,
  "nbformat_minor": 0,
  "metadata": {
    "colab": {
      "provenance": []
    },
    "kernelspec": {
      "name": "python3",
      "display_name": "Python 3"
    },
    "language_info": {
      "name": "python"
    }
  },
  "cells": [
    {
      "cell_type": "code",
      "execution_count": 2,
      "metadata": {
        "colab": {
          "base_uri": "https://localhost:8080/"
        },
        "id": "hUOMqBYC3XVd",
        "outputId": "ad53368a-3db9-4696-f089-7224e3a515ab"
      },
      "outputs": [
        {
          "output_type": "stream",
          "name": "stdout",
          "text": [
            "Autocorreltation matrix of Yd rd(0) =\n",
            "30.0\n",
            "\n",
            "Cross Correlation matrix rdx =\n",
            "[ 5. 25.]\n",
            "\n",
            " Autocorrelation of input Rx =\n",
            "[[ 1.  4.]\n",
            " [ 4. 21.]]\n",
            "\n",
            "Optimal Weight Matrix Wopt =\n",
            "[1. 1.]\n"
          ]
        }
      ],
      "source": [
        "import numpy as np\n",
        "\n",
        "# Input and desired output\n",
        "X = np.array([1, 3, 5, 7])\n",
        "Yd = np.array([2, 4, 6, 8])\n",
        "\n",
        "# Construct input matrix with bias\n",
        "U = np.column_stack((np.ones(len(X)), X))\n",
        "\n",
        "# Correlation matrices\n",
        "Rx = (U.T @ U) / len(X)          # Autocorrelation matrix of input\n",
        "rdx = (U.T @ Yd) / len(X)        # Cross-correlation vector\n",
        "rd0 = (Yd.T @ Yd) / len(X)       # Desired output autocorrelation at lag 0\n",
        "\n",
        "# Optimal Wiener weights\n",
        "Wopt = np.linalg.inv(Rx) @ rdx\n",
        "\n",
        "# Display results\n",
        "print(\"Autocorreltation matrix of Yd rd(0) =\")\n",
        "print(rd0)\n",
        "\n",
        "print(\"\\nCross Correlation matrix rdx =\")\n",
        "print(rdx)\n",
        "\n",
        "print(\"\\n Autocorrelation of input Rx =\")\n",
        "print(Rx)\n",
        "\n",
        "print(\"\\nOptimal Weight Matrix Wopt =\")\n",
        "print(Wopt)\n"
      ]
    }
  ]
}