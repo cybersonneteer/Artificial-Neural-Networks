{
  "nbformat": 4,
  "nbformat_minor": 0,
  "metadata": {
    "colab": {
      "provenance": []
    },
    "kernelspec": {
      "name": "python3",
      "display_name": "Python 3"
    },
    "language_info": {
      "name": "python"
    }
  },
  "cells": [
    {
      "cell_type": "code",
      "execution_count": null,
      "metadata": {
        "colab": {
          "base_uri": "https://localhost:8080/"
        },
        "id": "gKX_jv7QIwRN",
        "outputId": "4bc3cda3-51f9-4b5c-ac58-c061b072d655"
      },
      "outputs": [
        {
          "output_type": "stream",
          "name": "stdout",
          "text": [
            "1 = tanh\n",
            "2 = sigmoid\n",
            "3 = threshold\n",
            "Enter a choice: 3\n",
            "Enter the size of the vector: 3\n",
            "Enter element 1: 1\n",
            "Enter element 2: 2\n",
            "Enter element 3: 3\n",
            "Weighted sum: 3.0494\n",
            "Result after activation: 1.0000\n"
          ]
        }
      ],
      "source": [
        "import numpy as np\n",
        "\n",
        "# === Function definitions ===\n",
        "def tanh_func(v):\n",
        "    return (np.exp(v) - np.exp(-v)) / (np.exp(v) + np.exp(-v))\n",
        "\n",
        "def sigmoid_func(a, v):\n",
        "    return 1 / (1 + np.exp(-a * v))\n",
        "\n",
        "def threshold_func(v):\n",
        "    return float(v >= 0)  # returns 1.0 or 0.0\n",
        "\n",
        "# === Main program ===\n",
        "print(\"1 = tanh\")\n",
        "print(\"2 = sigmoid\")\n",
        "print(\"3 = threshold\")\n",
        "\n",
        "# Activation choice\n",
        "c = int(input(\"Enter a choice: \"))\n",
        "\n",
        "# Vector size\n",
        "n = int(input(\"Enter the size of the vector: \"))\n",
        "\n",
        "# Random weights\n",
        "w = np.random.rand(n, 1)\n",
        "2\n",
        "# Input vector from user\n",
        "x = np.zeros((n, 1))\n",
        "for i in range(n):\n",
        "    x[i, 0] = float(input(f\"Enter element {i+1}: \"))\n",
        "\n",
        "# Weighted sum\n",
        "s = np.sum(w * x)\n",
        "\n",
        "# Apply activation\n",
        "if c == 1:\n",
        "    y = tanh_func(s)\n",
        "elif c == 2:\n",
        "    a = np.random.rand()  # slope\n",
        "    y = sigmoid_func(a, s)\n",
        "elif c == 3:\n",
        "    y = threshold_func(s)\n",
        "else:\n",
        "    print(\"Unknown signal.\")\n",
        "    y = None\n",
        "\n",
        "# Display result\n",
        "if y is not None:\n",
        "    print(f\"Weighted sum: {s:.4f}\")\n",
        "    print(f\"Result after activation: {y:.4f}\")\n"
      ]
    }
  ]
}