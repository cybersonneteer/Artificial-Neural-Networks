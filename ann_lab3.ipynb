{
  "nbformat": 4,
  "nbformat_minor": 0,
  "metadata": {
    "colab": {
      "provenance": []
    },
    "kernelspec": {
      "name": "python3",
      "display_name": "Python 3"
    },
    "language_info": {
      "name": "python"
    }
  },
  "cells": [
    {
      "cell_type": "code",
      "execution_count": 1,
      "metadata": {
        "colab": {
          "base_uri": "https://localhost:8080/"
        },
        "id": "18qPCxv51fjk",
        "outputId": "88bb0001-d01d-48ab-ce6e-54689882d759"
      },
      "outputs": [
        {
          "output_type": "stream",
          "name": "stdout",
          "text": [
            "2.6846676952386836\n"
          ]
        }
      ],
      "source": [
        "import numpy as np\n",
        "\n",
        "# --- Activation functions ---\n",
        "def linear_func(v):\n",
        "    return v\n",
        "\n",
        "def tanh_func(v):\n",
        "    return (np.exp(v) - np.exp(-v)) / (np.exp(v) + np.exp(-v))\n",
        "\n",
        "def sigmoid_func(a, v):\n",
        "    return 1 / (1 + np.exp(-a * v))\n",
        "\n",
        "def threshold_func(v):\n",
        "    return np.double(v >= 0)\n",
        "\n",
        "# --- Main neuron function ---\n",
        "def myNeuron(x, w, c):\n",
        "    # Dot product equivalent of (w * x) in MATLAB\n",
        "    s = np.dot(w, x)\n",
        "\n",
        "    if c == 'linear':\n",
        "        return linear_func(s)\n",
        "    elif c == 'tanh':\n",
        "        return tanh_func(s)\n",
        "    elif c == 'sigmoid':\n",
        "        a = np.random.rand()\n",
        "        return sigmoid_func(a, s)\n",
        "    elif c == 'threshold':\n",
        "        return threshold_func(s)\n",
        "    else:\n",
        "        print('Unknown')\n",
        "        return None\n",
        "\n",
        "# --- Main script ---\n",
        "X_1 = np.array([1, 1, 2])\n",
        "\n",
        "W_1 = np.random.rand(2, 3)  # 2x3 matrix\n",
        "W_2 = np.random.rand(1, 3)  # 1x3 matrix\n",
        "\n",
        "v11 = myNeuron(X_1, W_1[0, :], 'linear')\n",
        "v12 = myNeuron(X_1, W_1[1, :], 'linear')\n",
        "\n",
        "y1 = np.array([1, v11, v12])\n",
        "\n",
        "y2 = myNeuron(y1, W_2[0, :], 'linear')\n",
        "\n",
        "print(y2)\n"
      ]
    }
  ]
}